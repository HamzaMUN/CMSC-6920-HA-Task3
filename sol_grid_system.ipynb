{
 "cells": [
  {
   "cell_type": "code",
   "execution_count": 1,
   "id": "cc004f54-174b-4850-9cef-b215118b8542",
   "metadata": {},
   "outputs": [
    {
     "name": "stdout",
     "output_type": "stream",
     "text": [
      "N=10, Max Error=6.8448e-04\n",
      "N=20, Max Error=1.8865e-04\n",
      "N=40, Max Error=4.9552e-05\n",
      "\n",
      "Error Ratios (should approach 4):\n",
      "N=20/10: 3.63\n",
      "N=40/20: 3.81\n"
     ]
    }
   ],
   "source": [
    "import numpy as np\n",
    "from scipy.linalg import solve\n",
    "\n",
    "# Define the BVP\n",
    "A = lambda x: 0 * x  # A(x)\n",
    "B = lambda x: 0 * x  # B(x)\n",
    "f = lambda x: np.sin(np.pi * x)  # Source term\n",
    "exact_solution = lambda x: (1 / (np.pi**2)) * np.sin(np.pi * x)  # Exact solution for u'' = sin(pi x)\n",
    "\n",
    "def solve_bvp(N):\n",
    "    \"\"\"Solve the BVP using finite difference methods.\"\"\"\n",
    "    h = 1 / (N + 1)  # Grid spacing\n",
    "    x = np.linspace(0, 1, N + 2)  # Full grid including boundaries\n",
    "    j = x[1:-1]  # Interior points only\n",
    "\n",
    "    # Compute diagonals\n",
    "    main_diag = 2 / h**2 + B(j)\n",
    "    sup_diag = -1 / h**2 - A(j) / (2 * h)\n",
    "    sub_diag = -1 / h**2 + A(j) / (2 * h)\n",
    "\n",
    "    # Create tridiagonal matrix\n",
    "    M = np.diag(main_diag) + np.diag(sup_diag[:-1], 1) + np.diag(sub_diag[1:], -1)\n",
    "\n",
    "    # Create right-hand side vector\n",
    "    V = f(j)\n",
    "    V[0] -= sub_diag[0] * 0  # Boundary condition at x=0\n",
    "    V[-1] -= sup_diag[-1] * 0  # Boundary condition at x=1\n",
    "\n",
    "    # Solve the system\n",
    "    u_interior = solve(M, V)\n",
    "\n",
    "    # Full solution including boundaries\n",
    "    u = np.zeros(N + 2)\n",
    "    u[1:-1] = u_interior\n",
    "    return x, u\n",
    "\n",
    "# Analyze errors for N=10, 20, 40\n",
    "N_values = [10, 20, 40]\n",
    "errors = []\n",
    "\n",
    "for N in N_values:\n",
    "    x, u_numeric = solve_bvp(N)\n",
    "    u_exact = exact_solution(x)\n",
    "    max_error = np.max(np.abs(u_numeric - u_exact))\n",
    "    errors.append(max_error)\n",
    "    print(f\"N={N}, Max Error={max_error:.4e}\")\n",
    "\n",
    "# Check if the errors reduce by a factor of 4\n",
    "print(\"\\nError Ratios (should approach 4):\")\n",
    "for i in range(1, len(errors)):\n",
    "    print(f\"N={N_values[i]}/{N_values[i-1]}: {errors[i-1] / errors[i]:.2f}\")\n"
   ]
  },
  {
   "cell_type": "code",
   "execution_count": null,
   "id": "1b1dcbd3-3199-45d9-98dc-7df76759daba",
   "metadata": {},
   "outputs": [],
   "source": []
  }
 ],
 "metadata": {
  "kernelspec": {
   "display_name": "Python 3 (ipykernel)",
   "language": "python",
   "name": "python3"
  },
  "language_info": {
   "codemirror_mode": {
    "name": "ipython",
    "version": 3
   },
   "file_extension": ".py",
   "mimetype": "text/x-python",
   "name": "python",
   "nbconvert_exporter": "python",
   "pygments_lexer": "ipython3",
   "version": "3.12.8"
  }
 },
 "nbformat": 4,
 "nbformat_minor": 5
}
