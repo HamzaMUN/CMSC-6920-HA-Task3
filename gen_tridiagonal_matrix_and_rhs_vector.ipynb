{
 "cells": [
  {
   "cell_type": "code",
   "execution_count": 1,
   "id": "fd6adf07-1a0b-40d5-a9c2-6a132e64c747",
   "metadata": {},
   "outputs": [
    {
     "name": "stdout",
     "output_type": "stream",
     "text": [
      "***\n",
      "Using Finite Difference Methods to generate the tridiagonal matrix and right-hand side vector to approximate the BVP.\n",
      "***\n"
     ]
    },
    {
     "name": "stdin",
     "output_type": "stream",
     "text": [
      "Enter the number of interior grid points (N):  10\n"
     ]
    },
    {
     "name": "stdout",
     "output_type": "stream",
     "text": [
      "\n",
      "***\n",
      "Output\n",
      "***\n",
      "\n",
      "Tridiagonal Matrix M:\n",
      "\n",
      "[[ 240.90909091 -121.            0.            0.            0.\n",
      "     0.            0.            0.            0.            0.        ]\n",
      " [-121.          240.81818182 -121.            0.            0.\n",
      "     0.            0.            0.            0.            0.        ]\n",
      " [   0.         -121.          240.72727273 -121.            0.\n",
      "     0.            0.            0.            0.            0.        ]\n",
      " [   0.            0.         -121.          240.63636364 -121.\n",
      "     0.            0.            0.            0.            0.        ]\n",
      " [   0.            0.            0.         -121.          240.54545455\n",
      "  -121.            0.            0.            0.            0.        ]\n",
      " [   0.            0.            0.            0.         -121.\n",
      "   240.45454545 -121.            0.            0.            0.        ]\n",
      " [   0.            0.            0.            0.            0.\n",
      "  -121.          240.36363636 -121.            0.            0.        ]\n",
      " [   0.            0.            0.            0.            0.\n",
      "     0.         -121.          240.27272727 -121.            0.        ]\n",
      " [   0.            0.            0.            0.            0.\n",
      "     0.            0.         -121.          240.18181818 -121.        ]\n",
      " [   0.            0.            0.            0.            0.\n",
      "     0.            0.            0.         -121.          240.09090909]]\n",
      "\n",
      "Right-Hand Side Vector V:\n",
      "\n",
      "[0.28173256 0.54064082 0.75574957 0.909632   0.98982144 0.98982144\n",
      " 0.909632   0.75574957 0.54064082 0.28173256]\n"
     ]
    }
   ],
   "source": [
    "import numpy as np\n",
    "\n",
    "print(\"***\\nUsing Finite Difference Methods to generate the tridiagonal matrix and right-hand side vector to approximate the BVP.\\n***\")\n",
    "\n",
    "try:\n",
    "    # Take user input value for N\n",
    "    N = int(input(\"Enter the number of interior grid points (N): \"))\n",
    "    \n",
    "    if N < 1:\n",
    "        raise ValueError(\"Validation error: The number of interior points (N) must be a positive integer.\")\n",
    "\n",
    "    # Example problem setup\n",
    "    h = 1 / (N + 1)\n",
    "    A = lambda x: 0 * x  # Function A(x), must handle arrays\n",
    "    B = lambda x: -1 * x + (-1)  # Function B(x), must handle arrays\n",
    "    f = lambda x: np.sin(np.pi * x)  # Right-hand side function\n",
    "    \n",
    "    # Grid points excluding boundaries\n",
    "    j = np.linspace(0, 1, N + 2)[1:-1]  # Only interior points\n",
    "\n",
    "    # Compute main, super, and sub-diagonals\n",
    "    main_diag = 2 / h**2 + B(j)  # Main diagonal\n",
    "    sup_diag = -1 / h**2 - A(j) / (2 * h)  # Super diagonal\n",
    "    sub_diag = -1 / h**2 + A(j) / (2 * h)  # Sub diagonal\n",
    "\n",
    "    # Create the tridiagonal matrix\n",
    "    M = np.diag(main_diag) + np.diag(sup_diag[:-1], 1) + np.diag(sub_diag[1:], -1)\n",
    "\n",
    "    # Create the right-hand side vector V\n",
    "    V = f(j)\n",
    "    V[0] -= sub_diag[0] * 0  # Adjust for boundary at x = 0 (u(0) = 0)\n",
    "    V[-1] -= sup_diag[-1] * 0  # Adjust for boundary at x = 1 (u(1) = 0)\n",
    "\n",
    "    # Output the results\n",
    "    print(\"\\n***\\nOutput\\n***\\n\")\n",
    "    print(\"Tridiagonal Matrix M:\\n\")\n",
    "    print(M)\n",
    "    print(\"\\nRight-Hand Side Vector V:\\n\")\n",
    "    print(V)\n",
    "\n",
    "except ValueError as e:\n",
    "    print(e)\n",
    "except Exception as e:\n",
    "    print(f\"An unexpected error occurred: {e}\")\n"
   ]
  }
 ],
 "metadata": {
  "kernelspec": {
   "display_name": "Python 3 (ipykernel)",
   "language": "python",
   "name": "python3"
  },
  "language_info": {
   "codemirror_mode": {
    "name": "ipython",
    "version": 3
   },
   "file_extension": ".py",
   "mimetype": "text/x-python",
   "name": "python",
   "nbconvert_exporter": "python",
   "pygments_lexer": "ipython3",
   "version": "3.12.8"
  }
 },
 "nbformat": 4,
 "nbformat_minor": 5
}
