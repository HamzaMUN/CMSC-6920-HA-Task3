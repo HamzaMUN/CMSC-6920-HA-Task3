{
 "cells": [
  {
   "cell_type": "code",
   "execution_count": 5,
   "id": "fd6adf07-1a0b-40d5-a9c2-6a132e64c747",
   "metadata": {},
   "outputs": [
    {
     "name": "stdout",
     "output_type": "stream",
     "text": [
      "***\n",
      "Using Finite Difference Methods to generate the tridiagonal matrix and right-hand side vector to approximate the BVP.\n",
      "***\n"
     ]
    },
    {
     "name": "stdin",
     "output_type": "stream",
     "text": [
      "Enter the number of interior grid points (N):  10\n"
     ]
    },
    {
     "name": "stdout",
     "output_type": "stream",
     "text": [
      "\n",
      "***\n",
      "Output\n",
      "***\n",
      "\n",
      "Tridiagonal Matrix M:\n",
      "\n",
      "[[ 242. -121.    0.    0.    0.    0.    0.    0.    0.    0.]\n",
      " [-121.  242. -121.    0.    0.    0.    0.    0.    0.    0.]\n",
      " [   0. -121.  242. -121.    0.    0.    0.    0.    0.    0.]\n",
      " [   0.    0. -121.  242. -121.    0.    0.    0.    0.    0.]\n",
      " [   0.    0.    0. -121.  242. -121.    0.    0.    0.    0.]\n",
      " [   0.    0.    0.    0. -121.  242. -121.    0.    0.    0.]\n",
      " [   0.    0.    0.    0.    0. -121.  242. -121.    0.    0.]\n",
      " [   0.    0.    0.    0.    0.    0. -121.  242. -121.    0.]\n",
      " [   0.    0.    0.    0.    0.    0.    0. -121.  242. -121.]\n",
      " [   0.    0.    0.    0.    0.    0.    0.    0. -121.  242.]]\n",
      "\n",
      "Right-Hand Side Vector F:\n",
      "\n",
      "[0.28173256 0.54064082 0.75574957 0.909632   0.98982144 0.98982144\n",
      " 0.909632   0.75574957 0.54064082 0.28173256]\n"
     ]
    }
   ],
   "source": [
    "import numpy as np\n",
    "\n",
    "def get_user_input():\n",
    "    # Prompt the user to input the number of interior grid points (N).\n",
    "    N = int(input(\"Enter the number of interior grid points (N): \"))\n",
    "    if N < 1:\n",
    "        raise ValueError(\"The number of interior points (N) must be a positive integer.\")\n",
    "    return N\n",
    "\n",
    "def define_functions():\n",
    "    # Define the functions A(x), B(x), and f(x) for the problem setup.\n",
    "    A = lambda x: 0 * x # Function A(x) = 0\n",
    "    B = lambda x: 0 * x # Function B(x) = 0\n",
    "    f = lambda x: np.sin(np.pi * x) # f(x) = sin (pi x)\n",
    "    return A, B, f\n",
    "\n",
    "def compute_grid_points(N):\n",
    "    # Compute the interior grid points excluding boundaries.\n",
    "    return np.linspace(0, 1, N + 2)[1:-1] # Only interior points\n",
    "\n",
    "def compute_diagonals(N, h, A, B, j):\n",
    "    # Compute the main, super, and sub-diagonals for the tridiagonal matrix.\n",
    "    main_diag = 2 / h**2 + B(j) # Main diagonal\n",
    "    sup_diag = -1 / h**2 - A(j) / (2 * h) # Super diagonal\n",
    "    sub_diag = -1 / h**2 + A(j) / (2 * h) # Sub diagonal\n",
    "    return main_diag, sup_diag, sub_diag\n",
    "\n",
    "def create_tridiagonal_matrix(main_diag, sup_diag, sub_diag):\n",
    "    # Create the tridiagonal matrix.\n",
    "    return np.diag(main_diag) + np.diag(sup_diag[:-1], 1) + np.diag(sub_diag[1:], -1)\n",
    "\n",
    "def create_rhs_vector(f, j, sup_diag, sub_diag):\n",
    "    # Create the right-hand side vector for the BVP.\n",
    "    F = f(j)\n",
    "    F[0] -= sub_diag[0] * 0 # Adjust for boundary at x = 0 (u(0) = 0)\n",
    "    F[-1] -= sup_diag[-1] * 0 # Adjust for boundary at x = 1 (u(1) = 0)\n",
    "    return F\n",
    "\n",
    "def display_results(M, F):\n",
    "    # Display the tridiagonal matrix and right-hand side vector.\n",
    "    print(\"\\n***\\nOutput\\n***\\n\")\n",
    "    print(\"Tridiagonal Matrix M:\\n\")\n",
    "    print(M)\n",
    "    print(\"\\nRight-Hand Side Vector F:\\n\")\n",
    "    print(F)\n",
    "\n",
    "def main():\n",
    "    print(\"***\\nUsing Finite Difference Methods to generate the tridiagonal matrix and right-hand side vector to approximate the BVP.\\n***\")\n",
    "    \n",
    "    try:\n",
    "        # Step 1: Get user input\n",
    "        N = get_user_input()\n",
    "        \n",
    "        # Step 2: Problem setup\n",
    "        h = 1 / (N + 1) # Grid spacing\n",
    "        \n",
    "        # Step 3: Define the problem functions A(x), B(x), and f(x)\n",
    "        A, B, f = define_functions()\n",
    "        \n",
    "        # Step 4: Compute grid points\n",
    "        j = compute_grid_points(N)\n",
    "        \n",
    "        # Step 5: Compute diagonals\n",
    "        main_diag, sup_diag, sub_diag = compute_diagonals(N, h, A, B, j)\n",
    "        \n",
    "        # Step 6: Create the tridiagonal matrix\n",
    "        M = create_tridiagonal_matrix(main_diag, sup_diag, sub_diag)\n",
    "        \n",
    "        # Step 7: Create the right-hand side vector\n",
    "        F = create_rhs_vector(f, j, sup_diag, sub_diag)\n",
    "        \n",
    "        # Step 8: Display the results\n",
    "        display_results(M, F)\n",
    "    \n",
    "    except ValueError as e:\n",
    "        print(f\"Validation error: {e}\")\n",
    "    except Exception as e:\n",
    "        print(f\"An unexpected error occurred: {e}\")\n",
    "\n",
    "# Run the main function\n",
    "main()"
   ]
  },
  {
   "cell_type": "code",
   "execution_count": null,
   "id": "87fd4a72-6b0d-4dfc-a3f7-044a91076cec",
   "metadata": {},
   "outputs": [],
   "source": []
  }
 ],
 "metadata": {
  "kernelspec": {
   "display_name": "Python 3 (ipykernel)",
   "language": "python",
   "name": "python3"
  },
  "language_info": {
   "codemirror_mode": {
    "name": "ipython",
    "version": 3
   },
   "file_extension": ".py",
   "mimetype": "text/x-python",
   "name": "python",
   "nbconvert_exporter": "python",
   "pygments_lexer": "ipython3",
   "version": "3.12.8"
  }
 },
 "nbformat": 4,
 "nbformat_minor": 5
}
